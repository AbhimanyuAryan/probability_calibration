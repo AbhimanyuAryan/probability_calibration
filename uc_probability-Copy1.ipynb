{
 "cells": [
  {
   "cell_type": "code",
   "execution_count": 1,
   "metadata": {},
   "outputs": [],
   "source": [
    "# plotting inline but with a non-gui backend\n",
    "#import matplotlib as mpl; mpl.use('Agg')\n",
    "%matplotlib inline\n",
    "\n",
    "# importing necessary modules\n",
    "import re\n",
    "import time\n",
    "import random\n",
    "import numpy as np\n",
    "import scipy as sp\n",
    "import pandas as pd\n",
    "import seaborn as sns\n",
    "import matplotlib.pyplot as plt\n",
    "#from lightgbm import LGBMClassifier\n",
    "from sklearn.linear_model import LogisticRegression\n",
    "from sklearn.ensemble import RandomForestClassifier, ExtraTreesClassifier\n",
    "from sklearn.model_selection import cross_val_predict, StratifiedKFold\n",
    "from sklearn.metrics import roc_auc_score\n",
    "from sklearn.preprocessing import OneHotEncoder\n",
    "from pandas.api.types import is_string_dtype\n",
    "from pandas.api.types import is_numeric_dtype\n",
    "\n",
    "\n",
    "# turning off automatic plot showing, and setting style\n",
    "plt.style.use('bmh')\n",
    "plt.ioff()"
   ]
  },
  {
   "cell_type": "code",
   "execution_count": 2,
   "metadata": {},
   "outputs": [],
   "source": [
    "df = pd.read_csv('./data.csv')"
   ]
  },
  {
   "cell_type": "code",
   "execution_count": 3,
   "metadata": {},
   "outputs": [
    {
     "data": {
      "text/html": [
       "<div>\n",
       "<style scoped>\n",
       "    .dataframe tbody tr th:only-of-type {\n",
       "        vertical-align: middle;\n",
       "    }\n",
       "\n",
       "    .dataframe tbody tr th {\n",
       "        vertical-align: top;\n",
       "    }\n",
       "\n",
       "    .dataframe thead th {\n",
       "        text-align: right;\n",
       "    }\n",
       "</style>\n",
       "<table border=\"1\" class=\"dataframe\">\n",
       "  <thead>\n",
       "    <tr style=\"text-align: right;\">\n",
       "      <th></th>\n",
       "      <th>record_id</th>\n",
       "      <th>city_key</th>\n",
       "      <th>event_time</th>\n",
       "      <th>weekday</th>\n",
       "      <th>category_key</th>\n",
       "      <th>rptcatg</th>\n",
       "      <th>req_id</th>\n",
       "      <th>session_group</th>\n",
       "    </tr>\n",
       "  </thead>\n",
       "  <tbody>\n",
       "    <tr>\n",
       "      <th>0</th>\n",
       "      <td>5c1699b0c3658c25008e1192</td>\n",
       "      <td>city_chennai_v2</td>\n",
       "      <td>2018-12-17 00:00:08</td>\n",
       "      <td>weekday</td>\n",
       "      <td>professional_bathroom_cleaning</td>\n",
       "      <td>Cleaning - Other</td>\n",
       "      <td>5c1699d714bd522300fae954</td>\n",
       "      <td>3022</td>\n",
       "    </tr>\n",
       "    <tr>\n",
       "      <th>1</th>\n",
       "      <td>5c1699b72dd2b92500f5f400</td>\n",
       "      <td>city_mumbai_v2</td>\n",
       "      <td>2018-12-17 00:00:15</td>\n",
       "      <td>weekday</td>\n",
       "      <td>electricians</td>\n",
       "      <td>EPC</td>\n",
       "      <td>5c1699ed70fa4f2500d66e7c</td>\n",
       "      <td>3303</td>\n",
       "    </tr>\n",
       "    <tr>\n",
       "      <th>2</th>\n",
       "      <td>5c1699df4fb96a2400166132</td>\n",
       "      <td>city_mumbai_v2</td>\n",
       "      <td>2018-12-17 00:00:55</td>\n",
       "      <td>weekday</td>\n",
       "      <td>salon_at_home</td>\n",
       "      <td>Salon at Home</td>\n",
       "      <td>NaN</td>\n",
       "      <td>3330</td>\n",
       "    </tr>\n",
       "    <tr>\n",
       "      <th>3</th>\n",
       "      <td>5c1699f405cbce26002ff832</td>\n",
       "      <td>city_kolkata_v2</td>\n",
       "      <td>2018-12-17 00:01:16</td>\n",
       "      <td>weekday</td>\n",
       "      <td>salon_at_home</td>\n",
       "      <td>Salon at Home</td>\n",
       "      <td>NaN</td>\n",
       "      <td>3330</td>\n",
       "    </tr>\n",
       "    <tr>\n",
       "      <th>4</th>\n",
       "      <td>5c1699fb02f88224006901f5</td>\n",
       "      <td>city_chennai_v2</td>\n",
       "      <td>2018-12-17 00:01:23</td>\n",
       "      <td>weekday</td>\n",
       "      <td>plumbers</td>\n",
       "      <td>EPC</td>\n",
       "      <td>5c169a6c8c954c2200693538</td>\n",
       "      <td>3303</td>\n",
       "    </tr>\n",
       "  </tbody>\n",
       "</table>\n",
       "</div>"
      ],
      "text/plain": [
       "                  record_id         city_key           event_time  weekday  \\\n",
       "0  5c1699b0c3658c25008e1192  city_chennai_v2  2018-12-17 00:00:08  weekday   \n",
       "1  5c1699b72dd2b92500f5f400   city_mumbai_v2  2018-12-17 00:00:15  weekday   \n",
       "2  5c1699df4fb96a2400166132   city_mumbai_v2  2018-12-17 00:00:55  weekday   \n",
       "3  5c1699f405cbce26002ff832  city_kolkata_v2  2018-12-17 00:01:16  weekday   \n",
       "4  5c1699fb02f88224006901f5  city_chennai_v2  2018-12-17 00:01:23  weekday   \n",
       "\n",
       "                     category_key           rptcatg                    req_id  \\\n",
       "0  professional_bathroom_cleaning  Cleaning - Other  5c1699d714bd522300fae954   \n",
       "1                    electricians               EPC  5c1699ed70fa4f2500d66e7c   \n",
       "2                   salon_at_home     Salon at Home                       NaN   \n",
       "3                   salon_at_home     Salon at Home                       NaN   \n",
       "4                        plumbers               EPC  5c169a6c8c954c2200693538   \n",
       "\n",
       "   session_group  \n",
       "0           3022  \n",
       "1           3303  \n",
       "2           3330  \n",
       "3           3330  \n",
       "4           3303  "
      ]
     },
     "execution_count": 3,
     "metadata": {},
     "output_type": "execute_result"
    }
   ],
   "source": [
    "df.head()"
   ]
  },
  {
   "cell_type": "markdown",
   "metadata": {},
   "source": [
    "#### conversion  = function(category, day_of_week, no_of_slots_shown)"
   ]
  },
  {
   "cell_type": "code",
   "execution_count": 4,
   "metadata": {},
   "outputs": [
    {
     "data": {
      "text/html": [
       "<div>\n",
       "<style scoped>\n",
       "    .dataframe tbody tr th:only-of-type {\n",
       "        vertical-align: middle;\n",
       "    }\n",
       "\n",
       "    .dataframe tbody tr th {\n",
       "        vertical-align: top;\n",
       "    }\n",
       "\n",
       "    .dataframe thead th {\n",
       "        text-align: right;\n",
       "    }\n",
       "</style>\n",
       "<table border=\"1\" class=\"dataframe\">\n",
       "  <thead>\n",
       "    <tr style=\"text-align: right;\">\n",
       "      <th></th>\n",
       "      <th>record_id</th>\n",
       "      <th>city_key</th>\n",
       "      <th>event_time</th>\n",
       "      <th>weekday</th>\n",
       "      <th>category_key</th>\n",
       "      <th>rptcatg</th>\n",
       "      <th>req_id</th>\n",
       "      <th>session_group</th>\n",
       "    </tr>\n",
       "  </thead>\n",
       "  <tbody>\n",
       "    <tr>\n",
       "      <th>0</th>\n",
       "      <td>5c1699b0c3658c25008e1192</td>\n",
       "      <td>city_chennai_v2</td>\n",
       "      <td>2018-12-17 00:00:08</td>\n",
       "      <td>weekday</td>\n",
       "      <td>professional_bathroom_cleaning</td>\n",
       "      <td>Cleaning - Other</td>\n",
       "      <td>1</td>\n",
       "      <td>3022</td>\n",
       "    </tr>\n",
       "    <tr>\n",
       "      <th>1</th>\n",
       "      <td>5c1699b72dd2b92500f5f400</td>\n",
       "      <td>city_mumbai_v2</td>\n",
       "      <td>2018-12-17 00:00:15</td>\n",
       "      <td>weekday</td>\n",
       "      <td>electricians</td>\n",
       "      <td>EPC</td>\n",
       "      <td>1</td>\n",
       "      <td>3303</td>\n",
       "    </tr>\n",
       "    <tr>\n",
       "      <th>2</th>\n",
       "      <td>5c1699df4fb96a2400166132</td>\n",
       "      <td>city_mumbai_v2</td>\n",
       "      <td>2018-12-17 00:00:55</td>\n",
       "      <td>weekday</td>\n",
       "      <td>salon_at_home</td>\n",
       "      <td>Salon at Home</td>\n",
       "      <td>0</td>\n",
       "      <td>3330</td>\n",
       "    </tr>\n",
       "    <tr>\n",
       "      <th>3</th>\n",
       "      <td>5c1699f405cbce26002ff832</td>\n",
       "      <td>city_kolkata_v2</td>\n",
       "      <td>2018-12-17 00:01:16</td>\n",
       "      <td>weekday</td>\n",
       "      <td>salon_at_home</td>\n",
       "      <td>Salon at Home</td>\n",
       "      <td>0</td>\n",
       "      <td>3330</td>\n",
       "    </tr>\n",
       "    <tr>\n",
       "      <th>4</th>\n",
       "      <td>5c1699fb02f88224006901f5</td>\n",
       "      <td>city_chennai_v2</td>\n",
       "      <td>2018-12-17 00:01:23</td>\n",
       "      <td>weekday</td>\n",
       "      <td>plumbers</td>\n",
       "      <td>EPC</td>\n",
       "      <td>1</td>\n",
       "      <td>3303</td>\n",
       "    </tr>\n",
       "  </tbody>\n",
       "</table>\n",
       "</div>"
      ],
      "text/plain": [
       "                  record_id         city_key           event_time  weekday  \\\n",
       "0  5c1699b0c3658c25008e1192  city_chennai_v2  2018-12-17 00:00:08  weekday   \n",
       "1  5c1699b72dd2b92500f5f400   city_mumbai_v2  2018-12-17 00:00:15  weekday   \n",
       "2  5c1699df4fb96a2400166132   city_mumbai_v2  2018-12-17 00:00:55  weekday   \n",
       "3  5c1699f405cbce26002ff832  city_kolkata_v2  2018-12-17 00:01:16  weekday   \n",
       "4  5c1699fb02f88224006901f5  city_chennai_v2  2018-12-17 00:01:23  weekday   \n",
       "\n",
       "                     category_key           rptcatg  req_id  session_group  \n",
       "0  professional_bathroom_cleaning  Cleaning - Other       1           3022  \n",
       "1                    electricians               EPC       1           3303  \n",
       "2                   salon_at_home     Salon at Home       0           3330  \n",
       "3                   salon_at_home     Salon at Home       0           3330  \n",
       "4                        plumbers               EPC       1           3303  "
      ]
     },
     "execution_count": 4,
     "metadata": {},
     "output_type": "execute_result"
    }
   ],
   "source": [
    "# req_id conversion\n",
    "df['req_id'].fillna(0, inplace=True)\n",
    "df.loc[df['req_id'] != 0, 'req_id'] = 1\n",
    "df.head()"
   ]
  },
  {
   "cell_type": "code",
   "execution_count": null,
   "metadata": {},
   "outputs": [],
   "source": []
  },
  {
   "cell_type": "code",
   "execution_count": 5,
   "metadata": {},
   "outputs": [
    {
     "data": {
      "text/plain": [
       "array(['professional_bathroom_cleaning', 'electricians', 'salon_at_home',\n",
       "       'plumbers', 'pest_control', 'ro_repair', 'massage_for_men',\n",
       "       'spa_at_home', 'professional_home_cleaning', 'carpenters',\n",
       "       'refrigerator_repair', 'professional_kitchen_cleaning',\n",
       "       'washing_machine_repair', 'professional_sofa_cleaning',\n",
       "       'microwave_repair', 'ac_service_repair',\n",
       "       'professional_carpet_cleaning', 'car_cleaning', 'mens_grooming'],\n",
       "      dtype=object)"
      ]
     },
     "execution_count": 5,
     "metadata": {},
     "output_type": "execute_result"
    }
   ],
   "source": [
    "df['category_key'].unique()"
   ]
  },
  {
   "cell_type": "code",
   "execution_count": 6,
   "metadata": {},
   "outputs": [
    {
     "data": {
      "text/plain": [
       "array(['Cleaning - Other', 'EPC', 'Salon at Home', 'Pest Control',\n",
       "       'Appliance Repair', 'Massage for Men', 'Spa for Women',\n",
       "       'Full Home Cleaning', 'Mens Grooming'], dtype=object)"
      ]
     },
     "execution_count": 6,
     "metadata": {},
     "output_type": "execute_result"
    }
   ],
   "source": [
    "df['rptcatg'].unique()"
   ]
  },
  {
   "cell_type": "code",
   "execution_count": 7,
   "metadata": {},
   "outputs": [
    {
     "data": {
      "text/plain": [
       "array(['weekday', 'friday', 'saturday', 'sunday'], dtype=object)"
      ]
     },
     "execution_count": 7,
     "metadata": {},
     "output_type": "execute_result"
    }
   ],
   "source": [
    "df['weekday'].unique()"
   ]
  },
  {
   "cell_type": "code",
   "execution_count": 8,
   "metadata": {},
   "outputs": [
    {
     "data": {
      "text/plain": [
       "array([3022, 3303, 3330, 3230, 3333, 3233, 3030, 3122, 3223, 3130, 3203,\n",
       "       3220, 3001, 3222, 3003, 3102, 3023, 3133, 3033, 3123, 3103, 2233,\n",
       "       2033, 2133, 2003, 2103, 2122, 2123, 2022, 2023, 2001, 2203, 2002,\n",
       "       2223, 2202, 2113, 2013, 2213, 1133, 1033, 1012, 1023, 1022, 1013,\n",
       "       1002, 1103, 1123, 1003, 1001,   33,    3,   23,   22,   13,    2,\n",
       "         12,   20,   32,    1, 3010, 3113, 3120, 3020, 3013, 3213, 3002,\n",
       "       2230, 2232, 2222, 2010, 2012, 2200, 1032, 1100, 1102, 1132, 1020,\n",
       "       1112, 1011, 3132, 3323, 2032, 2102, 2020, 2112, 2120, 1120, 1010,\n",
       "         30,   21, 3232, 3100, 3032, 3332, 3202, 3200, 2132, 2210, 1122,\n",
       "       1113,   11,   10, 3212, 3012, 2110, 2100, 1021, 3112, 3101, 2021,\n",
       "       2011, 2121, 1121, 2201, 2030, 1130, 1030, 3021, 3300, 2220, 3011,\n",
       "       3201, 2212,   31, 3231, 1131, 1101, 1031, 3322, 3111, 3121, 2130,\n",
       "       2111, 2101,    0, 2221, 2211, 1111, 1000, 1110, 3210, 3313, 2231,\n",
       "       3302, 2000, 2131, 3320, 3131, 2031, 3221, 3331, 3000, 3110, 3310])"
      ]
     },
     "execution_count": 8,
     "metadata": {},
     "output_type": "execute_result"
    }
   ],
   "source": [
    "df['session_group'].unique()"
   ]
  },
  {
   "cell_type": "code",
   "execution_count": 9,
   "metadata": {},
   "outputs": [
    {
     "data": {
      "text/html": [
       "<div>\n",
       "<style scoped>\n",
       "    .dataframe tbody tr th:only-of-type {\n",
       "        vertical-align: middle;\n",
       "    }\n",
       "\n",
       "    .dataframe tbody tr th {\n",
       "        vertical-align: top;\n",
       "    }\n",
       "\n",
       "    .dataframe thead th {\n",
       "        text-align: right;\n",
       "    }\n",
       "</style>\n",
       "<table border=\"1\" class=\"dataframe\">\n",
       "  <thead>\n",
       "    <tr style=\"text-align: right;\">\n",
       "      <th></th>\n",
       "      <th>record_id</th>\n",
       "      <th>city_key</th>\n",
       "      <th>event_time</th>\n",
       "      <th>weekday</th>\n",
       "      <th>category_key</th>\n",
       "      <th>rptcatg</th>\n",
       "      <th>req_id</th>\n",
       "      <th>session_group</th>\n",
       "    </tr>\n",
       "  </thead>\n",
       "  <tbody>\n",
       "    <tr>\n",
       "      <th>0</th>\n",
       "      <td>5c1699b0c3658c25008e1192</td>\n",
       "      <td>city_chennai_v2</td>\n",
       "      <td>2018-12-17 00:00:08</td>\n",
       "      <td>weekday</td>\n",
       "      <td>professional_bathroom_cleaning</td>\n",
       "      <td>Cleaning - Other</td>\n",
       "      <td>1</td>\n",
       "      <td>3022</td>\n",
       "    </tr>\n",
       "    <tr>\n",
       "      <th>1</th>\n",
       "      <td>5c1699b72dd2b92500f5f400</td>\n",
       "      <td>city_mumbai_v2</td>\n",
       "      <td>2018-12-17 00:00:15</td>\n",
       "      <td>weekday</td>\n",
       "      <td>electricians</td>\n",
       "      <td>EPC</td>\n",
       "      <td>1</td>\n",
       "      <td>3303</td>\n",
       "    </tr>\n",
       "    <tr>\n",
       "      <th>2</th>\n",
       "      <td>5c1699df4fb96a2400166132</td>\n",
       "      <td>city_mumbai_v2</td>\n",
       "      <td>2018-12-17 00:00:55</td>\n",
       "      <td>weekday</td>\n",
       "      <td>salon_at_home</td>\n",
       "      <td>Salon at Home</td>\n",
       "      <td>0</td>\n",
       "      <td>3330</td>\n",
       "    </tr>\n",
       "    <tr>\n",
       "      <th>3</th>\n",
       "      <td>5c1699f405cbce26002ff832</td>\n",
       "      <td>city_kolkata_v2</td>\n",
       "      <td>2018-12-17 00:01:16</td>\n",
       "      <td>weekday</td>\n",
       "      <td>salon_at_home</td>\n",
       "      <td>Salon at Home</td>\n",
       "      <td>0</td>\n",
       "      <td>3330</td>\n",
       "    </tr>\n",
       "    <tr>\n",
       "      <th>4</th>\n",
       "      <td>5c1699fb02f88224006901f5</td>\n",
       "      <td>city_chennai_v2</td>\n",
       "      <td>2018-12-17 00:01:23</td>\n",
       "      <td>weekday</td>\n",
       "      <td>plumbers</td>\n",
       "      <td>EPC</td>\n",
       "      <td>1</td>\n",
       "      <td>3303</td>\n",
       "    </tr>\n",
       "  </tbody>\n",
       "</table>\n",
       "</div>"
      ],
      "text/plain": [
       "                  record_id         city_key           event_time  weekday  \\\n",
       "0  5c1699b0c3658c25008e1192  city_chennai_v2  2018-12-17 00:00:08  weekday   \n",
       "1  5c1699b72dd2b92500f5f400   city_mumbai_v2  2018-12-17 00:00:15  weekday   \n",
       "2  5c1699df4fb96a2400166132   city_mumbai_v2  2018-12-17 00:00:55  weekday   \n",
       "3  5c1699f405cbce26002ff832  city_kolkata_v2  2018-12-17 00:01:16  weekday   \n",
       "4  5c1699fb02f88224006901f5  city_chennai_v2  2018-12-17 00:01:23  weekday   \n",
       "\n",
       "                     category_key           rptcatg  req_id  session_group  \n",
       "0  professional_bathroom_cleaning  Cleaning - Other       1           3022  \n",
       "1                    electricians               EPC       1           3303  \n",
       "2                   salon_at_home     Salon at Home       0           3330  \n",
       "3                   salon_at_home     Salon at Home       0           3330  \n",
       "4                        plumbers               EPC       1           3303  "
      ]
     },
     "execution_count": 9,
     "metadata": {},
     "output_type": "execute_result"
    }
   ],
   "source": [
    "df.head()"
   ]
  },
  {
   "cell_type": "code",
   "execution_count": null,
   "metadata": {},
   "outputs": [],
   "source": []
  },
  {
   "cell_type": "code",
   "execution_count": 10,
   "metadata": {},
   "outputs": [
    {
     "data": {
      "text/html": [
       "<div>\n",
       "<style scoped>\n",
       "    .dataframe tbody tr th:only-of-type {\n",
       "        vertical-align: middle;\n",
       "    }\n",
       "\n",
       "    .dataframe tbody tr th {\n",
       "        vertical-align: top;\n",
       "    }\n",
       "\n",
       "    .dataframe thead th {\n",
       "        text-align: right;\n",
       "    }\n",
       "</style>\n",
       "<table border=\"1\" class=\"dataframe\">\n",
       "  <thead>\n",
       "    <tr style=\"text-align: right;\">\n",
       "      <th></th>\n",
       "      <th>record_id</th>\n",
       "      <th>city_key</th>\n",
       "      <th>event_time</th>\n",
       "      <th>weekday</th>\n",
       "      <th>category_key</th>\n",
       "      <th>rptcatg</th>\n",
       "      <th>req_id</th>\n",
       "      <th>session_group</th>\n",
       "    </tr>\n",
       "  </thead>\n",
       "  <tbody>\n",
       "    <tr>\n",
       "      <th>0</th>\n",
       "      <td>5c1699b0c3658c25008e1192</td>\n",
       "      <td>city_chennai_v2</td>\n",
       "      <td>2018-12-17 00:00:08</td>\n",
       "      <td>weekday</td>\n",
       "      <td>professional_bathroom_cleaning</td>\n",
       "      <td>Cleaning - Other</td>\n",
       "      <td>1</td>\n",
       "      <td>3022</td>\n",
       "    </tr>\n",
       "    <tr>\n",
       "      <th>1</th>\n",
       "      <td>5c1699b72dd2b92500f5f400</td>\n",
       "      <td>city_mumbai_v2</td>\n",
       "      <td>2018-12-17 00:00:15</td>\n",
       "      <td>weekday</td>\n",
       "      <td>electricians</td>\n",
       "      <td>EPC</td>\n",
       "      <td>1</td>\n",
       "      <td>3303</td>\n",
       "    </tr>\n",
       "    <tr>\n",
       "      <th>2</th>\n",
       "      <td>5c1699df4fb96a2400166132</td>\n",
       "      <td>city_mumbai_v2</td>\n",
       "      <td>2018-12-17 00:00:55</td>\n",
       "      <td>weekday</td>\n",
       "      <td>salon_at_home</td>\n",
       "      <td>Salon at Home</td>\n",
       "      <td>0</td>\n",
       "      <td>3330</td>\n",
       "    </tr>\n",
       "    <tr>\n",
       "      <th>3</th>\n",
       "      <td>5c1699f405cbce26002ff832</td>\n",
       "      <td>city_kolkata_v2</td>\n",
       "      <td>2018-12-17 00:01:16</td>\n",
       "      <td>weekday</td>\n",
       "      <td>salon_at_home</td>\n",
       "      <td>Salon at Home</td>\n",
       "      <td>0</td>\n",
       "      <td>3330</td>\n",
       "    </tr>\n",
       "    <tr>\n",
       "      <th>4</th>\n",
       "      <td>5c1699fb02f88224006901f5</td>\n",
       "      <td>city_chennai_v2</td>\n",
       "      <td>2018-12-17 00:01:23</td>\n",
       "      <td>weekday</td>\n",
       "      <td>plumbers</td>\n",
       "      <td>EPC</td>\n",
       "      <td>1</td>\n",
       "      <td>3303</td>\n",
       "    </tr>\n",
       "  </tbody>\n",
       "</table>\n",
       "</div>"
      ],
      "text/plain": [
       "                  record_id         city_key           event_time  weekday  \\\n",
       "0  5c1699b0c3658c25008e1192  city_chennai_v2  2018-12-17 00:00:08  weekday   \n",
       "1  5c1699b72dd2b92500f5f400   city_mumbai_v2  2018-12-17 00:00:15  weekday   \n",
       "2  5c1699df4fb96a2400166132   city_mumbai_v2  2018-12-17 00:00:55  weekday   \n",
       "3  5c1699f405cbce26002ff832  city_kolkata_v2  2018-12-17 00:01:16  weekday   \n",
       "4  5c1699fb02f88224006901f5  city_chennai_v2  2018-12-17 00:01:23  weekday   \n",
       "\n",
       "                     category_key           rptcatg  req_id  session_group  \n",
       "0  professional_bathroom_cleaning  Cleaning - Other       1           3022  \n",
       "1                    electricians               EPC       1           3303  \n",
       "2                   salon_at_home     Salon at Home       0           3330  \n",
       "3                   salon_at_home     Salon at Home       0           3330  \n",
       "4                        plumbers               EPC       1           3303  "
      ]
     },
     "execution_count": 10,
     "metadata": {},
     "output_type": "execute_result"
    }
   ],
   "source": [
    "df.head()"
   ]
  },
  {
   "cell_type": "code",
   "execution_count": 11,
   "metadata": {},
   "outputs": [],
   "source": [
    "# Pulling hours from day time\n",
    "\n",
    "def pulling_day_category(df):\n",
    "    df['event_time'][0].split(' ')[1]\n",
    "    df['time'] = df['event_time'].str.split(' ').str[1]\n",
    "    df['hour_based_daytime'] = df['time'].str.split(':').str[0]\n",
    "    df['hour_based_daytime'] = pd.to_numeric(df['hour_based_daytime'])\n",
    "    bins = [-1, 10, 12, 15, 18, 20, 24]\n",
    "    labels = [\"morning\",\"b_noon\",\"noon\", \"b_evening\", \"evening\", \"night\"]\n",
    "    df['day_category'] = pd.cut(df['hour_based_daytime'], bins=bins, labels=labels)\n",
    "    df.drop('hour_based_daytime', axis=1,inplace=True)\n",
    "    df.drop('time', axis=1,inplace=True)\n",
    "    df.drop('event_time', axis=1, inplace=True)"
   ]
  },
  {
   "cell_type": "code",
   "execution_count": 12,
   "metadata": {},
   "outputs": [
    {
     "data": {
      "text/html": [
       "<div>\n",
       "<style scoped>\n",
       "    .dataframe tbody tr th:only-of-type {\n",
       "        vertical-align: middle;\n",
       "    }\n",
       "\n",
       "    .dataframe tbody tr th {\n",
       "        vertical-align: top;\n",
       "    }\n",
       "\n",
       "    .dataframe thead th {\n",
       "        text-align: right;\n",
       "    }\n",
       "</style>\n",
       "<table border=\"1\" class=\"dataframe\">\n",
       "  <thead>\n",
       "    <tr style=\"text-align: right;\">\n",
       "      <th></th>\n",
       "      <th>record_id</th>\n",
       "      <th>city_key</th>\n",
       "      <th>event_time</th>\n",
       "      <th>weekday</th>\n",
       "      <th>category_key</th>\n",
       "      <th>rptcatg</th>\n",
       "      <th>req_id</th>\n",
       "      <th>session_group</th>\n",
       "    </tr>\n",
       "  </thead>\n",
       "  <tbody>\n",
       "    <tr>\n",
       "      <th>0</th>\n",
       "      <td>5c1699b0c3658c25008e1192</td>\n",
       "      <td>city_chennai_v2</td>\n",
       "      <td>2018-12-17 00:00:08</td>\n",
       "      <td>weekday</td>\n",
       "      <td>professional_bathroom_cleaning</td>\n",
       "      <td>Cleaning - Other</td>\n",
       "      <td>1</td>\n",
       "      <td>3022</td>\n",
       "    </tr>\n",
       "    <tr>\n",
       "      <th>1</th>\n",
       "      <td>5c1699b72dd2b92500f5f400</td>\n",
       "      <td>city_mumbai_v2</td>\n",
       "      <td>2018-12-17 00:00:15</td>\n",
       "      <td>weekday</td>\n",
       "      <td>electricians</td>\n",
       "      <td>EPC</td>\n",
       "      <td>1</td>\n",
       "      <td>3303</td>\n",
       "    </tr>\n",
       "    <tr>\n",
       "      <th>2</th>\n",
       "      <td>5c1699df4fb96a2400166132</td>\n",
       "      <td>city_mumbai_v2</td>\n",
       "      <td>2018-12-17 00:00:55</td>\n",
       "      <td>weekday</td>\n",
       "      <td>salon_at_home</td>\n",
       "      <td>Salon at Home</td>\n",
       "      <td>0</td>\n",
       "      <td>3330</td>\n",
       "    </tr>\n",
       "    <tr>\n",
       "      <th>3</th>\n",
       "      <td>5c1699f405cbce26002ff832</td>\n",
       "      <td>city_kolkata_v2</td>\n",
       "      <td>2018-12-17 00:01:16</td>\n",
       "      <td>weekday</td>\n",
       "      <td>salon_at_home</td>\n",
       "      <td>Salon at Home</td>\n",
       "      <td>0</td>\n",
       "      <td>3330</td>\n",
       "    </tr>\n",
       "    <tr>\n",
       "      <th>4</th>\n",
       "      <td>5c1699fb02f88224006901f5</td>\n",
       "      <td>city_chennai_v2</td>\n",
       "      <td>2018-12-17 00:01:23</td>\n",
       "      <td>weekday</td>\n",
       "      <td>plumbers</td>\n",
       "      <td>EPC</td>\n",
       "      <td>1</td>\n",
       "      <td>3303</td>\n",
       "    </tr>\n",
       "  </tbody>\n",
       "</table>\n",
       "</div>"
      ],
      "text/plain": [
       "                  record_id         city_key           event_time  weekday  \\\n",
       "0  5c1699b0c3658c25008e1192  city_chennai_v2  2018-12-17 00:00:08  weekday   \n",
       "1  5c1699b72dd2b92500f5f400   city_mumbai_v2  2018-12-17 00:00:15  weekday   \n",
       "2  5c1699df4fb96a2400166132   city_mumbai_v2  2018-12-17 00:00:55  weekday   \n",
       "3  5c1699f405cbce26002ff832  city_kolkata_v2  2018-12-17 00:01:16  weekday   \n",
       "4  5c1699fb02f88224006901f5  city_chennai_v2  2018-12-17 00:01:23  weekday   \n",
       "\n",
       "                     category_key           rptcatg  req_id  session_group  \n",
       "0  professional_bathroom_cleaning  Cleaning - Other       1           3022  \n",
       "1                    electricians               EPC       1           3303  \n",
       "2                   salon_at_home     Salon at Home       0           3330  \n",
       "3                   salon_at_home     Salon at Home       0           3330  \n",
       "4                        plumbers               EPC       1           3303  "
      ]
     },
     "execution_count": 12,
     "metadata": {},
     "output_type": "execute_result"
    }
   ],
   "source": [
    "df.head()"
   ]
  },
  {
   "cell_type": "code",
   "execution_count": null,
   "metadata": {},
   "outputs": [],
   "source": []
  },
  {
   "cell_type": "code",
   "execution_count": 13,
   "metadata": {},
   "outputs": [],
   "source": [
    "pulling_day_category(df)"
   ]
  },
  {
   "cell_type": "code",
   "execution_count": 14,
   "metadata": {},
   "outputs": [
    {
     "data": {
      "text/html": [
       "<div>\n",
       "<style scoped>\n",
       "    .dataframe tbody tr th:only-of-type {\n",
       "        vertical-align: middle;\n",
       "    }\n",
       "\n",
       "    .dataframe tbody tr th {\n",
       "        vertical-align: top;\n",
       "    }\n",
       "\n",
       "    .dataframe thead th {\n",
       "        text-align: right;\n",
       "    }\n",
       "</style>\n",
       "<table border=\"1\" class=\"dataframe\">\n",
       "  <thead>\n",
       "    <tr style=\"text-align: right;\">\n",
       "      <th></th>\n",
       "      <th>record_id</th>\n",
       "      <th>city_key</th>\n",
       "      <th>weekday</th>\n",
       "      <th>category_key</th>\n",
       "      <th>rptcatg</th>\n",
       "      <th>req_id</th>\n",
       "      <th>session_group</th>\n",
       "      <th>day_category</th>\n",
       "    </tr>\n",
       "  </thead>\n",
       "  <tbody>\n",
       "    <tr>\n",
       "      <th>0</th>\n",
       "      <td>5c1699b0c3658c25008e1192</td>\n",
       "      <td>city_chennai_v2</td>\n",
       "      <td>weekday</td>\n",
       "      <td>professional_bathroom_cleaning</td>\n",
       "      <td>Cleaning - Other</td>\n",
       "      <td>1</td>\n",
       "      <td>3022</td>\n",
       "      <td>morning</td>\n",
       "    </tr>\n",
       "    <tr>\n",
       "      <th>1</th>\n",
       "      <td>5c1699b72dd2b92500f5f400</td>\n",
       "      <td>city_mumbai_v2</td>\n",
       "      <td>weekday</td>\n",
       "      <td>electricians</td>\n",
       "      <td>EPC</td>\n",
       "      <td>1</td>\n",
       "      <td>3303</td>\n",
       "      <td>morning</td>\n",
       "    </tr>\n",
       "    <tr>\n",
       "      <th>2</th>\n",
       "      <td>5c1699df4fb96a2400166132</td>\n",
       "      <td>city_mumbai_v2</td>\n",
       "      <td>weekday</td>\n",
       "      <td>salon_at_home</td>\n",
       "      <td>Salon at Home</td>\n",
       "      <td>0</td>\n",
       "      <td>3330</td>\n",
       "      <td>morning</td>\n",
       "    </tr>\n",
       "    <tr>\n",
       "      <th>3</th>\n",
       "      <td>5c1699f405cbce26002ff832</td>\n",
       "      <td>city_kolkata_v2</td>\n",
       "      <td>weekday</td>\n",
       "      <td>salon_at_home</td>\n",
       "      <td>Salon at Home</td>\n",
       "      <td>0</td>\n",
       "      <td>3330</td>\n",
       "      <td>morning</td>\n",
       "    </tr>\n",
       "    <tr>\n",
       "      <th>4</th>\n",
       "      <td>5c1699fb02f88224006901f5</td>\n",
       "      <td>city_chennai_v2</td>\n",
       "      <td>weekday</td>\n",
       "      <td>plumbers</td>\n",
       "      <td>EPC</td>\n",
       "      <td>1</td>\n",
       "      <td>3303</td>\n",
       "      <td>morning</td>\n",
       "    </tr>\n",
       "  </tbody>\n",
       "</table>\n",
       "</div>"
      ],
      "text/plain": [
       "                  record_id         city_key  weekday  \\\n",
       "0  5c1699b0c3658c25008e1192  city_chennai_v2  weekday   \n",
       "1  5c1699b72dd2b92500f5f400   city_mumbai_v2  weekday   \n",
       "2  5c1699df4fb96a2400166132   city_mumbai_v2  weekday   \n",
       "3  5c1699f405cbce26002ff832  city_kolkata_v2  weekday   \n",
       "4  5c1699fb02f88224006901f5  city_chennai_v2  weekday   \n",
       "\n",
       "                     category_key           rptcatg  req_id  session_group  \\\n",
       "0  professional_bathroom_cleaning  Cleaning - Other       1           3022   \n",
       "1                    electricians               EPC       1           3303   \n",
       "2                   salon_at_home     Salon at Home       0           3330   \n",
       "3                   salon_at_home     Salon at Home       0           3330   \n",
       "4                        plumbers               EPC       1           3303   \n",
       "\n",
       "  day_category  \n",
       "0      morning  \n",
       "1      morning  \n",
       "2      morning  \n",
       "3      morning  \n",
       "4      morning  "
      ]
     },
     "execution_count": 14,
     "metadata": {},
     "output_type": "execute_result"
    }
   ],
   "source": [
    "df.head()"
   ]
  },
  {
   "cell_type": "code",
   "execution_count": 15,
   "metadata": {},
   "outputs": [
    {
     "data": {
      "text/plain": [
       "CategoricalDtype(categories=['morning', 'b_noon', 'noon', 'b_evening', 'evening',\n",
       "                  'night'],\n",
       "                 ordered=True)"
      ]
     },
     "execution_count": 15,
     "metadata": {},
     "output_type": "execute_result"
    }
   ],
   "source": [
    "df['day_category'].dtypes"
   ]
  },
  {
   "cell_type": "code",
   "execution_count": 16,
   "metadata": {},
   "outputs": [],
   "source": [
    "#df['city_key'] = df.city_key.astype('category')\n",
    "#df['weekday'] = df.weekday.astype('category')\n",
    "#df['category_key'] = df.category_key.astype('category')\n",
    "#df['rptcatg'] = df.rptcatg.astype('category')\n",
    "\n",
    "def convert_cat(df):\n",
    "    for n,c in df.items():\n",
    "        if is_string_dtype(c): df[n] = c.astype('category').cat.as_ordered()"
   ]
  },
  {
   "cell_type": "code",
   "execution_count": 17,
   "metadata": {},
   "outputs": [],
   "source": [
    "convert_cat(df)"
   ]
  },
  {
   "cell_type": "code",
   "execution_count": 18,
   "metadata": {},
   "outputs": [
    {
     "data": {
      "text/html": [
       "<div>\n",
       "<style scoped>\n",
       "    .dataframe tbody tr th:only-of-type {\n",
       "        vertical-align: middle;\n",
       "    }\n",
       "\n",
       "    .dataframe tbody tr th {\n",
       "        vertical-align: top;\n",
       "    }\n",
       "\n",
       "    .dataframe thead th {\n",
       "        text-align: right;\n",
       "    }\n",
       "</style>\n",
       "<table border=\"1\" class=\"dataframe\">\n",
       "  <thead>\n",
       "    <tr style=\"text-align: right;\">\n",
       "      <th></th>\n",
       "      <th>record_id</th>\n",
       "      <th>city_key</th>\n",
       "      <th>weekday</th>\n",
       "      <th>category_key</th>\n",
       "      <th>rptcatg</th>\n",
       "      <th>req_id</th>\n",
       "      <th>session_group</th>\n",
       "      <th>day_category</th>\n",
       "    </tr>\n",
       "  </thead>\n",
       "  <tbody>\n",
       "    <tr>\n",
       "      <th>0</th>\n",
       "      <td>5c1699b0c3658c25008e1192</td>\n",
       "      <td>city_chennai_v2</td>\n",
       "      <td>weekday</td>\n",
       "      <td>professional_bathroom_cleaning</td>\n",
       "      <td>Cleaning - Other</td>\n",
       "      <td>1</td>\n",
       "      <td>3022</td>\n",
       "      <td>morning</td>\n",
       "    </tr>\n",
       "    <tr>\n",
       "      <th>1</th>\n",
       "      <td>5c1699b72dd2b92500f5f400</td>\n",
       "      <td>city_mumbai_v2</td>\n",
       "      <td>weekday</td>\n",
       "      <td>electricians</td>\n",
       "      <td>EPC</td>\n",
       "      <td>1</td>\n",
       "      <td>3303</td>\n",
       "      <td>morning</td>\n",
       "    </tr>\n",
       "    <tr>\n",
       "      <th>2</th>\n",
       "      <td>5c1699df4fb96a2400166132</td>\n",
       "      <td>city_mumbai_v2</td>\n",
       "      <td>weekday</td>\n",
       "      <td>salon_at_home</td>\n",
       "      <td>Salon at Home</td>\n",
       "      <td>0</td>\n",
       "      <td>3330</td>\n",
       "      <td>morning</td>\n",
       "    </tr>\n",
       "    <tr>\n",
       "      <th>3</th>\n",
       "      <td>5c1699f405cbce26002ff832</td>\n",
       "      <td>city_kolkata_v2</td>\n",
       "      <td>weekday</td>\n",
       "      <td>salon_at_home</td>\n",
       "      <td>Salon at Home</td>\n",
       "      <td>0</td>\n",
       "      <td>3330</td>\n",
       "      <td>morning</td>\n",
       "    </tr>\n",
       "    <tr>\n",
       "      <th>4</th>\n",
       "      <td>5c1699fb02f88224006901f5</td>\n",
       "      <td>city_chennai_v2</td>\n",
       "      <td>weekday</td>\n",
       "      <td>plumbers</td>\n",
       "      <td>EPC</td>\n",
       "      <td>1</td>\n",
       "      <td>3303</td>\n",
       "      <td>morning</td>\n",
       "    </tr>\n",
       "  </tbody>\n",
       "</table>\n",
       "</div>"
      ],
      "text/plain": [
       "                  record_id         city_key  weekday  \\\n",
       "0  5c1699b0c3658c25008e1192  city_chennai_v2  weekday   \n",
       "1  5c1699b72dd2b92500f5f400   city_mumbai_v2  weekday   \n",
       "2  5c1699df4fb96a2400166132   city_mumbai_v2  weekday   \n",
       "3  5c1699f405cbce26002ff832  city_kolkata_v2  weekday   \n",
       "4  5c1699fb02f88224006901f5  city_chennai_v2  weekday   \n",
       "\n",
       "                     category_key           rptcatg  req_id  session_group  \\\n",
       "0  professional_bathroom_cleaning  Cleaning - Other       1           3022   \n",
       "1                    electricians               EPC       1           3303   \n",
       "2                   salon_at_home     Salon at Home       0           3330   \n",
       "3                   salon_at_home     Salon at Home       0           3330   \n",
       "4                        plumbers               EPC       1           3303   \n",
       "\n",
       "  day_category  \n",
       "0      morning  \n",
       "1      morning  \n",
       "2      morning  \n",
       "3      morning  \n",
       "4      morning  "
      ]
     },
     "execution_count": 18,
     "metadata": {},
     "output_type": "execute_result"
    }
   ],
   "source": [
    "df.head()"
   ]
  },
  {
   "cell_type": "code",
   "execution_count": 19,
   "metadata": {},
   "outputs": [
    {
     "data": {
      "text/plain": [
       "CategoricalDtype(categories=['morning', 'b_noon', 'noon', 'b_evening', 'evening',\n",
       "                  'night'],\n",
       "                 ordered=True)"
      ]
     },
     "execution_count": 19,
     "metadata": {},
     "output_type": "execute_result"
    }
   ],
   "source": [
    "df['day_category'].dtypes"
   ]
  },
  {
   "cell_type": "code",
   "execution_count": 20,
   "metadata": {},
   "outputs": [
    {
     "data": {
      "text/plain": [
       "CategoricalDtype(categories=['city_ahmedabad_v2', 'city_bangalore_v2',\n",
       "                  'city_chandigarh_v2', 'city_chennai_v2', 'city_delhi_v2',\n",
       "                  'city_hyderabad_v2', 'city_jaipur_v2', 'city_kolkata_v2',\n",
       "                  'city_mumbai_v2', 'city_pune_v2'],\n",
       "                 ordered=True)"
      ]
     },
     "execution_count": 20,
     "metadata": {},
     "output_type": "execute_result"
    }
   ],
   "source": [
    "df['city_key'].dtypes"
   ]
  },
  {
   "cell_type": "code",
   "execution_count": null,
   "metadata": {},
   "outputs": [],
   "source": []
  },
  {
   "cell_type": "code",
   "execution_count": 21,
   "metadata": {},
   "outputs": [
    {
     "data": {
      "text/plain": [
       "CategoricalDtype(categories=['friday', 'saturday', 'sunday', 'weekday'], ordered=True)"
      ]
     },
     "execution_count": 21,
     "metadata": {},
     "output_type": "execute_result"
    }
   ],
   "source": [
    "df['weekday'].dtypes"
   ]
  },
  {
   "cell_type": "code",
   "execution_count": 22,
   "metadata": {},
   "outputs": [
    {
     "data": {
      "text/plain": [
       "CategoricalDtype(categories=['Appliance Repair', 'Cleaning - Other', 'EPC',\n",
       "                  'Full Home Cleaning', 'Massage for Men', 'Mens Grooming',\n",
       "                  'Pest Control', 'Salon at Home', 'Spa for Women'],\n",
       "                 ordered=True)"
      ]
     },
     "execution_count": 22,
     "metadata": {},
     "output_type": "execute_result"
    }
   ],
   "source": [
    "df['rptcatg'].dtypes"
   ]
  },
  {
   "cell_type": "code",
   "execution_count": 23,
   "metadata": {},
   "outputs": [
    {
     "data": {
      "text/plain": [
       "CategoricalDtype(categories=['ac_service_repair', 'car_cleaning', 'carpenters',\n",
       "                  'electricians', 'massage_for_men', 'mens_grooming',\n",
       "                  'microwave_repair', 'pest_control', 'plumbers',\n",
       "                  'professional_bathroom_cleaning',\n",
       "                  'professional_carpet_cleaning', 'professional_home_cleaning',\n",
       "                  'professional_kitchen_cleaning',\n",
       "                  'professional_sofa_cleaning', 'refrigerator_repair',\n",
       "                  'ro_repair', 'salon_at_home', 'spa_at_home',\n",
       "                  'washing_machine_repair'],\n",
       "                 ordered=True)"
      ]
     },
     "execution_count": 23,
     "metadata": {},
     "output_type": "execute_result"
    }
   ],
   "source": [
    "df['category_key'].dtypes"
   ]
  },
  {
   "cell_type": "code",
   "execution_count": 24,
   "metadata": {},
   "outputs": [
    {
     "data": {
      "text/html": [
       "<div>\n",
       "<style scoped>\n",
       "    .dataframe tbody tr th:only-of-type {\n",
       "        vertical-align: middle;\n",
       "    }\n",
       "\n",
       "    .dataframe tbody tr th {\n",
       "        vertical-align: top;\n",
       "    }\n",
       "\n",
       "    .dataframe thead th {\n",
       "        text-align: right;\n",
       "    }\n",
       "</style>\n",
       "<table border=\"1\" class=\"dataframe\">\n",
       "  <thead>\n",
       "    <tr style=\"text-align: right;\">\n",
       "      <th></th>\n",
       "      <th>record_id</th>\n",
       "      <th>city_key</th>\n",
       "      <th>weekday</th>\n",
       "      <th>category_key</th>\n",
       "      <th>rptcatg</th>\n",
       "      <th>req_id</th>\n",
       "      <th>session_group</th>\n",
       "      <th>day_category</th>\n",
       "    </tr>\n",
       "  </thead>\n",
       "  <tbody>\n",
       "    <tr>\n",
       "      <th>0</th>\n",
       "      <td>5c1699b0c3658c25008e1192</td>\n",
       "      <td>city_chennai_v2</td>\n",
       "      <td>weekday</td>\n",
       "      <td>professional_bathroom_cleaning</td>\n",
       "      <td>Cleaning - Other</td>\n",
       "      <td>1</td>\n",
       "      <td>3022</td>\n",
       "      <td>morning</td>\n",
       "    </tr>\n",
       "    <tr>\n",
       "      <th>1</th>\n",
       "      <td>5c1699b72dd2b92500f5f400</td>\n",
       "      <td>city_mumbai_v2</td>\n",
       "      <td>weekday</td>\n",
       "      <td>electricians</td>\n",
       "      <td>EPC</td>\n",
       "      <td>1</td>\n",
       "      <td>3303</td>\n",
       "      <td>morning</td>\n",
       "    </tr>\n",
       "    <tr>\n",
       "      <th>2</th>\n",
       "      <td>5c1699df4fb96a2400166132</td>\n",
       "      <td>city_mumbai_v2</td>\n",
       "      <td>weekday</td>\n",
       "      <td>salon_at_home</td>\n",
       "      <td>Salon at Home</td>\n",
       "      <td>0</td>\n",
       "      <td>3330</td>\n",
       "      <td>morning</td>\n",
       "    </tr>\n",
       "    <tr>\n",
       "      <th>3</th>\n",
       "      <td>5c1699f405cbce26002ff832</td>\n",
       "      <td>city_kolkata_v2</td>\n",
       "      <td>weekday</td>\n",
       "      <td>salon_at_home</td>\n",
       "      <td>Salon at Home</td>\n",
       "      <td>0</td>\n",
       "      <td>3330</td>\n",
       "      <td>morning</td>\n",
       "    </tr>\n",
       "    <tr>\n",
       "      <th>4</th>\n",
       "      <td>5c1699fb02f88224006901f5</td>\n",
       "      <td>city_chennai_v2</td>\n",
       "      <td>weekday</td>\n",
       "      <td>plumbers</td>\n",
       "      <td>EPC</td>\n",
       "      <td>1</td>\n",
       "      <td>3303</td>\n",
       "      <td>morning</td>\n",
       "    </tr>\n",
       "  </tbody>\n",
       "</table>\n",
       "</div>"
      ],
      "text/plain": [
       "                  record_id         city_key  weekday  \\\n",
       "0  5c1699b0c3658c25008e1192  city_chennai_v2  weekday   \n",
       "1  5c1699b72dd2b92500f5f400   city_mumbai_v2  weekday   \n",
       "2  5c1699df4fb96a2400166132   city_mumbai_v2  weekday   \n",
       "3  5c1699f405cbce26002ff832  city_kolkata_v2  weekday   \n",
       "4  5c1699fb02f88224006901f5  city_chennai_v2  weekday   \n",
       "\n",
       "                     category_key           rptcatg  req_id  session_group  \\\n",
       "0  professional_bathroom_cleaning  Cleaning - Other       1           3022   \n",
       "1                    electricians               EPC       1           3303   \n",
       "2                   salon_at_home     Salon at Home       0           3330   \n",
       "3                   salon_at_home     Salon at Home       0           3330   \n",
       "4                        plumbers               EPC       1           3303   \n",
       "\n",
       "  day_category  \n",
       "0      morning  \n",
       "1      morning  \n",
       "2      morning  \n",
       "3      morning  \n",
       "4      morning  "
      ]
     },
     "execution_count": 24,
     "metadata": {},
     "output_type": "execute_result"
    }
   ],
   "source": [
    "df.head()"
   ]
  },
  {
   "cell_type": "code",
   "execution_count": 25,
   "metadata": {},
   "outputs": [
    {
     "data": {
      "text/plain": [
       "(816530, 8)"
      ]
     },
     "execution_count": 25,
     "metadata": {},
     "output_type": "execute_result"
    }
   ],
   "source": [
    "df.shape"
   ]
  },
  {
   "cell_type": "code",
   "execution_count": 26,
   "metadata": {},
   "outputs": [
    {
     "data": {
      "text/plain": [
       "0    0.543902\n",
       "1    0.456098\n",
       "Name: req_id, dtype: float64"
      ]
     },
     "execution_count": 26,
     "metadata": {},
     "output_type": "execute_result"
    }
   ],
   "source": [
    "# class imbalance\n",
    "df['req_id'].value_counts()/816530"
   ]
  },
  {
   "cell_type": "markdown",
   "metadata": {},
   "source": [
    "# One hot encoding"
   ]
  },
  {
   "cell_type": "code",
   "execution_count": 28,
   "metadata": {},
   "outputs": [
    {
     "data": {
      "text/html": [
       "<div>\n",
       "<style scoped>\n",
       "    .dataframe tbody tr th:only-of-type {\n",
       "        vertical-align: middle;\n",
       "    }\n",
       "\n",
       "    .dataframe tbody tr th {\n",
       "        vertical-align: top;\n",
       "    }\n",
       "\n",
       "    .dataframe thead th {\n",
       "        text-align: right;\n",
       "    }\n",
       "</style>\n",
       "<table border=\"1\" class=\"dataframe\">\n",
       "  <thead>\n",
       "    <tr style=\"text-align: right;\">\n",
       "      <th></th>\n",
       "      <th>record_id</th>\n",
       "      <th>city_key</th>\n",
       "      <th>weekday</th>\n",
       "      <th>category_key</th>\n",
       "      <th>rptcatg</th>\n",
       "      <th>req_id</th>\n",
       "      <th>session_group</th>\n",
       "      <th>day_category</th>\n",
       "    </tr>\n",
       "  </thead>\n",
       "  <tbody>\n",
       "    <tr>\n",
       "      <th>0</th>\n",
       "      <td>5c1699b0c3658c25008e1192</td>\n",
       "      <td>city_chennai_v2</td>\n",
       "      <td>weekday</td>\n",
       "      <td>professional_bathroom_cleaning</td>\n",
       "      <td>Cleaning - Other</td>\n",
       "      <td>1</td>\n",
       "      <td>3022</td>\n",
       "      <td>morning</td>\n",
       "    </tr>\n",
       "    <tr>\n",
       "      <th>1</th>\n",
       "      <td>5c1699b72dd2b92500f5f400</td>\n",
       "      <td>city_mumbai_v2</td>\n",
       "      <td>weekday</td>\n",
       "      <td>electricians</td>\n",
       "      <td>EPC</td>\n",
       "      <td>1</td>\n",
       "      <td>3303</td>\n",
       "      <td>morning</td>\n",
       "    </tr>\n",
       "    <tr>\n",
       "      <th>2</th>\n",
       "      <td>5c1699df4fb96a2400166132</td>\n",
       "      <td>city_mumbai_v2</td>\n",
       "      <td>weekday</td>\n",
       "      <td>salon_at_home</td>\n",
       "      <td>Salon at Home</td>\n",
       "      <td>0</td>\n",
       "      <td>3330</td>\n",
       "      <td>morning</td>\n",
       "    </tr>\n",
       "    <tr>\n",
       "      <th>3</th>\n",
       "      <td>5c1699f405cbce26002ff832</td>\n",
       "      <td>city_kolkata_v2</td>\n",
       "      <td>weekday</td>\n",
       "      <td>salon_at_home</td>\n",
       "      <td>Salon at Home</td>\n",
       "      <td>0</td>\n",
       "      <td>3330</td>\n",
       "      <td>morning</td>\n",
       "    </tr>\n",
       "    <tr>\n",
       "      <th>4</th>\n",
       "      <td>5c1699fb02f88224006901f5</td>\n",
       "      <td>city_chennai_v2</td>\n",
       "      <td>weekday</td>\n",
       "      <td>plumbers</td>\n",
       "      <td>EPC</td>\n",
       "      <td>1</td>\n",
       "      <td>3303</td>\n",
       "      <td>morning</td>\n",
       "    </tr>\n",
       "  </tbody>\n",
       "</table>\n",
       "</div>"
      ],
      "text/plain": [
       "                  record_id         city_key  weekday  \\\n",
       "0  5c1699b0c3658c25008e1192  city_chennai_v2  weekday   \n",
       "1  5c1699b72dd2b92500f5f400   city_mumbai_v2  weekday   \n",
       "2  5c1699df4fb96a2400166132   city_mumbai_v2  weekday   \n",
       "3  5c1699f405cbce26002ff832  city_kolkata_v2  weekday   \n",
       "4  5c1699fb02f88224006901f5  city_chennai_v2  weekday   \n",
       "\n",
       "                     category_key           rptcatg  req_id  session_group  \\\n",
       "0  professional_bathroom_cleaning  Cleaning - Other       1           3022   \n",
       "1                    electricians               EPC       1           3303   \n",
       "2                   salon_at_home     Salon at Home       0           3330   \n",
       "3                   salon_at_home     Salon at Home       0           3330   \n",
       "4                        plumbers               EPC       1           3303   \n",
       "\n",
       "  day_category  \n",
       "0      morning  \n",
       "1      morning  \n",
       "2      morning  \n",
       "3      morning  \n",
       "4      morning  "
      ]
     },
     "execution_count": 28,
     "metadata": {},
     "output_type": "execute_result"
    }
   ],
   "source": [
    "df.head()"
   ]
  },
  {
   "cell_type": "code",
   "execution_count": 29,
   "metadata": {},
   "outputs": [],
   "source": [
    "from sklearn.preprocessing import LabelEncoder\n",
    "le_city_key = LabelEncoder()\n",
    "\n",
    "df['city_key_encoded'] = le_city_key.fit_transform(df.city_key)"
   ]
  },
  {
   "cell_type": "code",
   "execution_count": 30,
   "metadata": {},
   "outputs": [
    {
     "data": {
      "text/html": [
       "<div>\n",
       "<style scoped>\n",
       "    .dataframe tbody tr th:only-of-type {\n",
       "        vertical-align: middle;\n",
       "    }\n",
       "\n",
       "    .dataframe tbody tr th {\n",
       "        vertical-align: top;\n",
       "    }\n",
       "\n",
       "    .dataframe thead th {\n",
       "        text-align: right;\n",
       "    }\n",
       "</style>\n",
       "<table border=\"1\" class=\"dataframe\">\n",
       "  <thead>\n",
       "    <tr style=\"text-align: right;\">\n",
       "      <th></th>\n",
       "      <th>record_id</th>\n",
       "      <th>city_key</th>\n",
       "      <th>weekday</th>\n",
       "      <th>category_key</th>\n",
       "      <th>rptcatg</th>\n",
       "      <th>req_id</th>\n",
       "      <th>session_group</th>\n",
       "      <th>day_category</th>\n",
       "      <th>city_key_encoded</th>\n",
       "    </tr>\n",
       "  </thead>\n",
       "  <tbody>\n",
       "    <tr>\n",
       "      <th>0</th>\n",
       "      <td>5c1699b0c3658c25008e1192</td>\n",
       "      <td>city_chennai_v2</td>\n",
       "      <td>weekday</td>\n",
       "      <td>professional_bathroom_cleaning</td>\n",
       "      <td>Cleaning - Other</td>\n",
       "      <td>1</td>\n",
       "      <td>3022</td>\n",
       "      <td>morning</td>\n",
       "      <td>3</td>\n",
       "    </tr>\n",
       "    <tr>\n",
       "      <th>1</th>\n",
       "      <td>5c1699b72dd2b92500f5f400</td>\n",
       "      <td>city_mumbai_v2</td>\n",
       "      <td>weekday</td>\n",
       "      <td>electricians</td>\n",
       "      <td>EPC</td>\n",
       "      <td>1</td>\n",
       "      <td>3303</td>\n",
       "      <td>morning</td>\n",
       "      <td>8</td>\n",
       "    </tr>\n",
       "    <tr>\n",
       "      <th>2</th>\n",
       "      <td>5c1699df4fb96a2400166132</td>\n",
       "      <td>city_mumbai_v2</td>\n",
       "      <td>weekday</td>\n",
       "      <td>salon_at_home</td>\n",
       "      <td>Salon at Home</td>\n",
       "      <td>0</td>\n",
       "      <td>3330</td>\n",
       "      <td>morning</td>\n",
       "      <td>8</td>\n",
       "    </tr>\n",
       "    <tr>\n",
       "      <th>3</th>\n",
       "      <td>5c1699f405cbce26002ff832</td>\n",
       "      <td>city_kolkata_v2</td>\n",
       "      <td>weekday</td>\n",
       "      <td>salon_at_home</td>\n",
       "      <td>Salon at Home</td>\n",
       "      <td>0</td>\n",
       "      <td>3330</td>\n",
       "      <td>morning</td>\n",
       "      <td>7</td>\n",
       "    </tr>\n",
       "    <tr>\n",
       "      <th>4</th>\n",
       "      <td>5c1699fb02f88224006901f5</td>\n",
       "      <td>city_chennai_v2</td>\n",
       "      <td>weekday</td>\n",
       "      <td>plumbers</td>\n",
       "      <td>EPC</td>\n",
       "      <td>1</td>\n",
       "      <td>3303</td>\n",
       "      <td>morning</td>\n",
       "      <td>3</td>\n",
       "    </tr>\n",
       "  </tbody>\n",
       "</table>\n",
       "</div>"
      ],
      "text/plain": [
       "                  record_id         city_key  weekday  \\\n",
       "0  5c1699b0c3658c25008e1192  city_chennai_v2  weekday   \n",
       "1  5c1699b72dd2b92500f5f400   city_mumbai_v2  weekday   \n",
       "2  5c1699df4fb96a2400166132   city_mumbai_v2  weekday   \n",
       "3  5c1699f405cbce26002ff832  city_kolkata_v2  weekday   \n",
       "4  5c1699fb02f88224006901f5  city_chennai_v2  weekday   \n",
       "\n",
       "                     category_key           rptcatg  req_id  session_group  \\\n",
       "0  professional_bathroom_cleaning  Cleaning - Other       1           3022   \n",
       "1                    electricians               EPC       1           3303   \n",
       "2                   salon_at_home     Salon at Home       0           3330   \n",
       "3                   salon_at_home     Salon at Home       0           3330   \n",
       "4                        plumbers               EPC       1           3303   \n",
       "\n",
       "  day_category  city_key_encoded  \n",
       "0      morning                 3  \n",
       "1      morning                 8  \n",
       "2      morning                 8  \n",
       "3      morning                 7  \n",
       "4      morning                 3  "
      ]
     },
     "execution_count": 30,
     "metadata": {},
     "output_type": "execute_result"
    }
   ],
   "source": [
    "df.head()"
   ]
  },
  {
   "cell_type": "code",
   "execution_count": 31,
   "metadata": {},
   "outputs": [],
   "source": [
    "from sklearn.preprocessing import OneHotEncoder\n",
    "city_key_ohe = OneHotEncoder()\n",
    "weekday_ohe = OneHotEncoder()\n",
    "category_key_ohe = OneHotEncoder()\n",
    "rptcatg_key_ohe = OneHotEncoder()\n",
    "\n",
    "\n",
    "X = city_key_ohe.fit_transform(df.city_key_encoded.values.reshape(-1,1)).toarray()\n",
    "Y = weeke.fit_transform(df.city_key_encoded.values.reshape(-1,1)).toarray()\n",
    "Z = city_key_ohe.fit_transform(df.city_key_encoded.values.reshape(-1,1)).toarray()\n",
    "W = city_key_ohe.fit_transform(df.city_key_encoded.values.reshape(-1,1)).toarray()"
   ]
  },
  {
   "cell_type": "code",
   "execution_count": 33,
   "metadata": {},
   "outputs": [],
   "source": [
    "dfOneHot = pd.DataFrame(X, columns = [\"City_key_\"+str(int(i)) for i in range(X.shape[1])])\n",
    "df = pd.concat([df, dfOneHot], axis=1)"
   ]
  },
  {
   "cell_type": "code",
   "execution_count": 34,
   "metadata": {},
   "outputs": [
    {
     "data": {
      "text/html": [
       "<div>\n",
       "<style scoped>\n",
       "    .dataframe tbody tr th:only-of-type {\n",
       "        vertical-align: middle;\n",
       "    }\n",
       "\n",
       "    .dataframe tbody tr th {\n",
       "        vertical-align: top;\n",
       "    }\n",
       "\n",
       "    .dataframe thead th {\n",
       "        text-align: right;\n",
       "    }\n",
       "</style>\n",
       "<table border=\"1\" class=\"dataframe\">\n",
       "  <thead>\n",
       "    <tr style=\"text-align: right;\">\n",
       "      <th></th>\n",
       "      <th>record_id</th>\n",
       "      <th>city_key</th>\n",
       "      <th>weekday</th>\n",
       "      <th>category_key</th>\n",
       "      <th>rptcatg</th>\n",
       "      <th>req_id</th>\n",
       "      <th>session_group</th>\n",
       "      <th>day_category</th>\n",
       "      <th>city_key_encoded</th>\n",
       "      <th>City_key_0</th>\n",
       "      <th>City_key_1</th>\n",
       "      <th>City_key_2</th>\n",
       "      <th>City_key_3</th>\n",
       "      <th>City_key_4</th>\n",
       "      <th>City_key_5</th>\n",
       "      <th>City_key_6</th>\n",
       "      <th>City_key_7</th>\n",
       "      <th>City_key_8</th>\n",
       "      <th>City_key_9</th>\n",
       "    </tr>\n",
       "  </thead>\n",
       "  <tbody>\n",
       "    <tr>\n",
       "      <th>0</th>\n",
       "      <td>5c1699b0c3658c25008e1192</td>\n",
       "      <td>city_chennai_v2</td>\n",
       "      <td>weekday</td>\n",
       "      <td>professional_bathroom_cleaning</td>\n",
       "      <td>Cleaning - Other</td>\n",
       "      <td>1</td>\n",
       "      <td>3022</td>\n",
       "      <td>morning</td>\n",
       "      <td>3</td>\n",
       "      <td>0.0</td>\n",
       "      <td>0.0</td>\n",
       "      <td>0.0</td>\n",
       "      <td>1.0</td>\n",
       "      <td>0.0</td>\n",
       "      <td>0.0</td>\n",
       "      <td>0.0</td>\n",
       "      <td>0.0</td>\n",
       "      <td>0.0</td>\n",
       "      <td>0.0</td>\n",
       "    </tr>\n",
       "    <tr>\n",
       "      <th>1</th>\n",
       "      <td>5c1699b72dd2b92500f5f400</td>\n",
       "      <td>city_mumbai_v2</td>\n",
       "      <td>weekday</td>\n",
       "      <td>electricians</td>\n",
       "      <td>EPC</td>\n",
       "      <td>1</td>\n",
       "      <td>3303</td>\n",
       "      <td>morning</td>\n",
       "      <td>8</td>\n",
       "      <td>0.0</td>\n",
       "      <td>0.0</td>\n",
       "      <td>0.0</td>\n",
       "      <td>0.0</td>\n",
       "      <td>0.0</td>\n",
       "      <td>0.0</td>\n",
       "      <td>0.0</td>\n",
       "      <td>0.0</td>\n",
       "      <td>1.0</td>\n",
       "      <td>0.0</td>\n",
       "    </tr>\n",
       "    <tr>\n",
       "      <th>2</th>\n",
       "      <td>5c1699df4fb96a2400166132</td>\n",
       "      <td>city_mumbai_v2</td>\n",
       "      <td>weekday</td>\n",
       "      <td>salon_at_home</td>\n",
       "      <td>Salon at Home</td>\n",
       "      <td>0</td>\n",
       "      <td>3330</td>\n",
       "      <td>morning</td>\n",
       "      <td>8</td>\n",
       "      <td>0.0</td>\n",
       "      <td>0.0</td>\n",
       "      <td>0.0</td>\n",
       "      <td>0.0</td>\n",
       "      <td>0.0</td>\n",
       "      <td>0.0</td>\n",
       "      <td>0.0</td>\n",
       "      <td>0.0</td>\n",
       "      <td>1.0</td>\n",
       "      <td>0.0</td>\n",
       "    </tr>\n",
       "    <tr>\n",
       "      <th>3</th>\n",
       "      <td>5c1699f405cbce26002ff832</td>\n",
       "      <td>city_kolkata_v2</td>\n",
       "      <td>weekday</td>\n",
       "      <td>salon_at_home</td>\n",
       "      <td>Salon at Home</td>\n",
       "      <td>0</td>\n",
       "      <td>3330</td>\n",
       "      <td>morning</td>\n",
       "      <td>7</td>\n",
       "      <td>0.0</td>\n",
       "      <td>0.0</td>\n",
       "      <td>0.0</td>\n",
       "      <td>0.0</td>\n",
       "      <td>0.0</td>\n",
       "      <td>0.0</td>\n",
       "      <td>0.0</td>\n",
       "      <td>1.0</td>\n",
       "      <td>0.0</td>\n",
       "      <td>0.0</td>\n",
       "    </tr>\n",
       "    <tr>\n",
       "      <th>4</th>\n",
       "      <td>5c1699fb02f88224006901f5</td>\n",
       "      <td>city_chennai_v2</td>\n",
       "      <td>weekday</td>\n",
       "      <td>plumbers</td>\n",
       "      <td>EPC</td>\n",
       "      <td>1</td>\n",
       "      <td>3303</td>\n",
       "      <td>morning</td>\n",
       "      <td>3</td>\n",
       "      <td>0.0</td>\n",
       "      <td>0.0</td>\n",
       "      <td>0.0</td>\n",
       "      <td>1.0</td>\n",
       "      <td>0.0</td>\n",
       "      <td>0.0</td>\n",
       "      <td>0.0</td>\n",
       "      <td>0.0</td>\n",
       "      <td>0.0</td>\n",
       "      <td>0.0</td>\n",
       "    </tr>\n",
       "  </tbody>\n",
       "</table>\n",
       "</div>"
      ],
      "text/plain": [
       "                  record_id         city_key  weekday  \\\n",
       "0  5c1699b0c3658c25008e1192  city_chennai_v2  weekday   \n",
       "1  5c1699b72dd2b92500f5f400   city_mumbai_v2  weekday   \n",
       "2  5c1699df4fb96a2400166132   city_mumbai_v2  weekday   \n",
       "3  5c1699f405cbce26002ff832  city_kolkata_v2  weekday   \n",
       "4  5c1699fb02f88224006901f5  city_chennai_v2  weekday   \n",
       "\n",
       "                     category_key           rptcatg  req_id  session_group  \\\n",
       "0  professional_bathroom_cleaning  Cleaning - Other       1           3022   \n",
       "1                    electricians               EPC       1           3303   \n",
       "2                   salon_at_home     Salon at Home       0           3330   \n",
       "3                   salon_at_home     Salon at Home       0           3330   \n",
       "4                        plumbers               EPC       1           3303   \n",
       "\n",
       "  day_category  city_key_encoded  City_key_0  City_key_1  City_key_2  \\\n",
       "0      morning                 3         0.0         0.0         0.0   \n",
       "1      morning                 8         0.0         0.0         0.0   \n",
       "2      morning                 8         0.0         0.0         0.0   \n",
       "3      morning                 7         0.0         0.0         0.0   \n",
       "4      morning                 3         0.0         0.0         0.0   \n",
       "\n",
       "   City_key_3  City_key_4  City_key_5  City_key_6  City_key_7  City_key_8  \\\n",
       "0         1.0         0.0         0.0         0.0         0.0         0.0   \n",
       "1         0.0         0.0         0.0         0.0         0.0         1.0   \n",
       "2         0.0         0.0         0.0         0.0         0.0         1.0   \n",
       "3         0.0         0.0         0.0         0.0         1.0         0.0   \n",
       "4         1.0         0.0         0.0         0.0         0.0         0.0   \n",
       "\n",
       "   City_key_9  \n",
       "0         0.0  \n",
       "1         0.0  \n",
       "2         0.0  \n",
       "3         0.0  \n",
       "4         0.0  "
      ]
     },
     "execution_count": 34,
     "metadata": {},
     "output_type": "execute_result"
    }
   ],
   "source": [
    "df.head()"
   ]
  },
  {
   "cell_type": "markdown",
   "metadata": {},
   "source": [
    "## Cool. The data is tidy with only numeric columns. The proportion of the minority class is 45%."
   ]
  },
  {
   "cell_type": "code",
   "execution_count": 57,
   "metadata": {},
   "outputs": [],
   "source": [
    "from pandas.api.types import is_numeric_dtype\n",
    "\n",
    "def fix_missing(df, col, name, na_dict):\n",
    "    if is_numeric_dtype(col):\n",
    "        if pd.isnull(col).sum() or (name in na_dict):\n",
    "            df[name+'_na'] = pd.isnull(col)\n",
    "            filler = na_dict[name] if name in na_dict else col.median()\n",
    "            df[name] = col.fillna(filler)\n",
    "            na_dict[name] = filler\n",
    "    return na_dict\n",
    "\n",
    "def numericalize(df, col, name, max_n_cat):\n",
    "    if not is_numeric_dtype(col) and ( max_n_cat is None or len(col.cat.categories)>max_n_cat):\n",
    "        df[name] = pd.Categorical(col).codes+1\n",
    "\n",
    "\n",
    "def convert_cat_num(df, y_fld=None, skip_flds=None, ignore_flds=None, do_scale=False, na_dict=None,\n",
    "            preproc_fn=None, max_n_cat=None, subset=None, mapper=None):\n",
    "    if not ignore_flds: ignore_flds=[]\n",
    "    if not skip_flds: skip_flds=[]\n",
    "    if subset: df = get_sample(df,subset)\n",
    "    else: df = df.copy()\n",
    "    ignored_flds = df.loc[:, ignore_flds]\n",
    "    df.drop(ignore_flds, axis=1, inplace=True)\n",
    "    if preproc_fn: preproc_fn(df)\n",
    "    if y_fld is None: y = None\n",
    "    else:\n",
    "        if not is_numeric_dtype(df[y_fld]): df[y_fld] = pd.Categorical(df[y_fld]).codes\n",
    "        y = df[y_fld].values\n",
    "        skip_flds += [y_fld]\n",
    "    df.drop(skip_flds, axis=1, inplace=True)\n",
    "\n",
    "    if na_dict is None: na_dict = {}\n",
    "    else: na_dict = na_dict.copy()\n",
    "    na_dict_initial = na_dict.copy()\n",
    "    for n,c in df.items(): na_dict = fix_missing(df, c, n, na_dict)\n",
    "    if len(na_dict_initial.keys()) > 0:\n",
    "        df.drop([a + '_na' for a in list(set(na_dict.keys()) - set(na_dict_initial.keys()))], axis=1, inplace=True)\n",
    "    if do_scale: mapper = scale_vars(df, mapper)\n",
    "    for n,c in df.items(): numericalize(df, c, n, max_n_cat)\n",
    "    df = pd.get_dummies(df, dummy_na=True)\n",
    "    df = pd.concat([ignored_flds, df], axis=1)\n",
    "    res = [df, y, na_dict]\n",
    "    if do_scale: res = res + [mapper]\n",
    "    return res"
   ]
  },
  {
   "cell_type": "code",
   "execution_count": 58,
   "metadata": {},
   "outputs": [],
   "source": [
    "df, y, nas = convert_cat_num(df, 'req_id')"
   ]
  },
  {
   "cell_type": "code",
   "execution_count": 59,
   "metadata": {},
   "outputs": [
    {
     "data": {
      "text/html": [
       "<div>\n",
       "<style scoped>\n",
       "    .dataframe tbody tr th:only-of-type {\n",
       "        vertical-align: middle;\n",
       "    }\n",
       "\n",
       "    .dataframe tbody tr th {\n",
       "        vertical-align: top;\n",
       "    }\n",
       "\n",
       "    .dataframe thead th {\n",
       "        text-align: right;\n",
       "    }\n",
       "</style>\n",
       "<table border=\"1\" class=\"dataframe\">\n",
       "  <thead>\n",
       "    <tr style=\"text-align: right;\">\n",
       "      <th></th>\n",
       "      <th>record_id</th>\n",
       "      <th>city_key</th>\n",
       "      <th>weekday</th>\n",
       "      <th>category_key</th>\n",
       "      <th>rptcatg</th>\n",
       "      <th>session_group</th>\n",
       "      <th>day_category</th>\n",
       "    </tr>\n",
       "  </thead>\n",
       "  <tbody>\n",
       "    <tr>\n",
       "      <th>0</th>\n",
       "      <td>3</td>\n",
       "      <td>4</td>\n",
       "      <td>4</td>\n",
       "      <td>10</td>\n",
       "      <td>2</td>\n",
       "      <td>3022</td>\n",
       "      <td>1</td>\n",
       "    </tr>\n",
       "    <tr>\n",
       "      <th>1</th>\n",
       "      <td>6</td>\n",
       "      <td>9</td>\n",
       "      <td>4</td>\n",
       "      <td>4</td>\n",
       "      <td>3</td>\n",
       "      <td>3303</td>\n",
       "      <td>1</td>\n",
       "    </tr>\n",
       "    <tr>\n",
       "      <th>2</th>\n",
       "      <td>12</td>\n",
       "      <td>9</td>\n",
       "      <td>4</td>\n",
       "      <td>17</td>\n",
       "      <td>8</td>\n",
       "      <td>3330</td>\n",
       "      <td>1</td>\n",
       "    </tr>\n",
       "    <tr>\n",
       "      <th>3</th>\n",
       "      <td>17</td>\n",
       "      <td>8</td>\n",
       "      <td>4</td>\n",
       "      <td>17</td>\n",
       "      <td>8</td>\n",
       "      <td>3330</td>\n",
       "      <td>1</td>\n",
       "    </tr>\n",
       "    <tr>\n",
       "      <th>4</th>\n",
       "      <td>19</td>\n",
       "      <td>4</td>\n",
       "      <td>4</td>\n",
       "      <td>9</td>\n",
       "      <td>3</td>\n",
       "      <td>3303</td>\n",
       "      <td>1</td>\n",
       "    </tr>\n",
       "  </tbody>\n",
       "</table>\n",
       "</div>"
      ],
      "text/plain": [
       "   record_id  city_key  weekday  category_key  rptcatg  session_group  \\\n",
       "0          3         4        4            10        2           3022   \n",
       "1          6         9        4             4        3           3303   \n",
       "2         12         9        4            17        8           3330   \n",
       "3         17         8        4            17        8           3330   \n",
       "4         19         4        4             9        3           3303   \n",
       "\n",
       "   day_category  \n",
       "0             1  \n",
       "1             1  \n",
       "2             1  \n",
       "3             1  \n",
       "4             1  "
      ]
     },
     "execution_count": 59,
     "metadata": {},
     "output_type": "execute_result"
    }
   ],
   "source": [
    "df.head()"
   ]
  },
  {
   "cell_type": "code",
   "execution_count": 60,
   "metadata": {},
   "outputs": [
    {
     "data": {
      "text/plain": [
       "array([10,  4, 17,  9,  8, 16,  5, 18, 12,  3, 15, 13, 19, 14,  7,  1, 11,\n",
       "        2,  6])"
      ]
     },
     "execution_count": 60,
     "metadata": {},
     "output_type": "execute_result"
    }
   ],
   "source": [
    "# Test\n",
    "df['category_key'].unique()"
   ]
  },
  {
   "cell_type": "code",
   "execution_count": 61,
   "metadata": {},
   "outputs": [
    {
     "name": "stdout",
     "output_type": "stream",
     "text": [
      "<class 'pandas.core.frame.DataFrame'>\n",
      "RangeIndex: 816530 entries, 0 to 816529\n",
      "Data columns (total 7 columns):\n",
      "record_id        816530 non-null int32\n",
      "city_key         816530 non-null int8\n",
      "weekday          816530 non-null int8\n",
      "category_key     816530 non-null int8\n",
      "rptcatg          816530 non-null int8\n",
      "session_group    816530 non-null int64\n",
      "day_category     816530 non-null int8\n",
      "dtypes: int32(1), int64(1), int8(5)\n",
      "memory usage: 13.2 MB\n"
     ]
    }
   ],
   "source": [
    "df.info()"
   ]
  },
  {
   "cell_type": "code",
   "execution_count": 62,
   "metadata": {},
   "outputs": [
    {
     "data": {
      "text/html": [
       "<div>\n",
       "<style scoped>\n",
       "    .dataframe tbody tr th:only-of-type {\n",
       "        vertical-align: middle;\n",
       "    }\n",
       "\n",
       "    .dataframe tbody tr th {\n",
       "        vertical-align: top;\n",
       "    }\n",
       "\n",
       "    .dataframe thead th {\n",
       "        text-align: right;\n",
       "    }\n",
       "</style>\n",
       "<table border=\"1\" class=\"dataframe\">\n",
       "  <thead>\n",
       "    <tr style=\"text-align: right;\">\n",
       "      <th></th>\n",
       "      <th>record_id</th>\n",
       "      <th>city_key</th>\n",
       "      <th>weekday</th>\n",
       "      <th>category_key</th>\n",
       "      <th>rptcatg</th>\n",
       "      <th>session_group</th>\n",
       "      <th>day_category</th>\n",
       "    </tr>\n",
       "  </thead>\n",
       "  <tbody>\n",
       "    <tr>\n",
       "      <th>0</th>\n",
       "      <td>3</td>\n",
       "      <td>4</td>\n",
       "      <td>4</td>\n",
       "      <td>10</td>\n",
       "      <td>2</td>\n",
       "      <td>3022</td>\n",
       "      <td>1</td>\n",
       "    </tr>\n",
       "    <tr>\n",
       "      <th>1</th>\n",
       "      <td>6</td>\n",
       "      <td>9</td>\n",
       "      <td>4</td>\n",
       "      <td>4</td>\n",
       "      <td>3</td>\n",
       "      <td>3303</td>\n",
       "      <td>1</td>\n",
       "    </tr>\n",
       "    <tr>\n",
       "      <th>2</th>\n",
       "      <td>12</td>\n",
       "      <td>9</td>\n",
       "      <td>4</td>\n",
       "      <td>17</td>\n",
       "      <td>8</td>\n",
       "      <td>3330</td>\n",
       "      <td>1</td>\n",
       "    </tr>\n",
       "    <tr>\n",
       "      <th>3</th>\n",
       "      <td>17</td>\n",
       "      <td>8</td>\n",
       "      <td>4</td>\n",
       "      <td>17</td>\n",
       "      <td>8</td>\n",
       "      <td>3330</td>\n",
       "      <td>1</td>\n",
       "    </tr>\n",
       "    <tr>\n",
       "      <th>4</th>\n",
       "      <td>19</td>\n",
       "      <td>4</td>\n",
       "      <td>4</td>\n",
       "      <td>9</td>\n",
       "      <td>3</td>\n",
       "      <td>3303</td>\n",
       "      <td>1</td>\n",
       "    </tr>\n",
       "  </tbody>\n",
       "</table>\n",
       "</div>"
      ],
      "text/plain": [
       "   record_id  city_key  weekday  category_key  rptcatg  session_group  \\\n",
       "0          3         4        4            10        2           3022   \n",
       "1          6         9        4             4        3           3303   \n",
       "2         12         9        4            17        8           3330   \n",
       "3         17         8        4            17        8           3330   \n",
       "4         19         4        4             9        3           3303   \n",
       "\n",
       "   day_category  \n",
       "0             1  \n",
       "1             1  \n",
       "2             1  \n",
       "3             1  \n",
       "4             1  "
      ]
     },
     "execution_count": 62,
     "metadata": {},
     "output_type": "execute_result"
    }
   ],
   "source": [
    "df.head()"
   ]
  },
  {
   "cell_type": "code",
   "execution_count": 63,
   "metadata": {},
   "outputs": [],
   "source": [
    "# getting design matrix and target\n",
    "X = df.copy().drop(['record_id','city_key', 'day_category'], axis=1)"
   ]
  },
  {
   "cell_type": "code",
   "execution_count": 64,
   "metadata": {},
   "outputs": [
    {
     "data": {
      "text/html": [
       "<div>\n",
       "<style scoped>\n",
       "    .dataframe tbody tr th:only-of-type {\n",
       "        vertical-align: middle;\n",
       "    }\n",
       "\n",
       "    .dataframe tbody tr th {\n",
       "        vertical-align: top;\n",
       "    }\n",
       "\n",
       "    .dataframe thead th {\n",
       "        text-align: right;\n",
       "    }\n",
       "</style>\n",
       "<table border=\"1\" class=\"dataframe\">\n",
       "  <thead>\n",
       "    <tr style=\"text-align: right;\">\n",
       "      <th></th>\n",
       "      <th>weekday</th>\n",
       "      <th>category_key</th>\n",
       "      <th>rptcatg</th>\n",
       "      <th>session_group</th>\n",
       "    </tr>\n",
       "  </thead>\n",
       "  <tbody>\n",
       "    <tr>\n",
       "      <th>0</th>\n",
       "      <td>4</td>\n",
       "      <td>10</td>\n",
       "      <td>2</td>\n",
       "      <td>3022</td>\n",
       "    </tr>\n",
       "    <tr>\n",
       "      <th>1</th>\n",
       "      <td>4</td>\n",
       "      <td>4</td>\n",
       "      <td>3</td>\n",
       "      <td>3303</td>\n",
       "    </tr>\n",
       "    <tr>\n",
       "      <th>2</th>\n",
       "      <td>4</td>\n",
       "      <td>17</td>\n",
       "      <td>8</td>\n",
       "      <td>3330</td>\n",
       "    </tr>\n",
       "    <tr>\n",
       "      <th>3</th>\n",
       "      <td>4</td>\n",
       "      <td>17</td>\n",
       "      <td>8</td>\n",
       "      <td>3330</td>\n",
       "    </tr>\n",
       "    <tr>\n",
       "      <th>4</th>\n",
       "      <td>4</td>\n",
       "      <td>9</td>\n",
       "      <td>3</td>\n",
       "      <td>3303</td>\n",
       "    </tr>\n",
       "  </tbody>\n",
       "</table>\n",
       "</div>"
      ],
      "text/plain": [
       "   weekday  category_key  rptcatg  session_group\n",
       "0        4            10        2           3022\n",
       "1        4             4        3           3303\n",
       "2        4            17        8           3330\n",
       "3        4            17        8           3330\n",
       "4        4             9        3           3303"
      ]
     },
     "execution_count": 64,
     "metadata": {},
     "output_type": "execute_result"
    }
   ],
   "source": [
    "X.head()"
   ]
  },
  {
   "cell_type": "code",
   "execution_count": 65,
   "metadata": {},
   "outputs": [
    {
     "data": {
      "text/plain": [
       "array([1, 1, 0, ..., 1, 1, 0])"
      ]
     },
     "execution_count": 65,
     "metadata": {},
     "output_type": "execute_result"
    }
   ],
   "source": [
    "y"
   ]
  },
  {
   "cell_type": "markdown",
   "metadata": {},
   "source": [
    "# SPLIT"
   ]
  },
  {
   "cell_type": "code",
   "execution_count": 66,
   "metadata": {},
   "outputs": [
    {
     "data": {
      "text/plain": [
       "((269661, 7), (269661,), (546869, 7))"
      ]
     },
     "execution_count": 66,
     "metadata": {},
     "output_type": "execute_result"
    }
   ],
   "source": [
    "def split_vals(a,n): return a[:n].copy(), a[n:].copy()\n",
    "\n",
    "n_valid = 546869  # same as Kaggle's test set size\n",
    "n_trn = len(df)-n_valid\n",
    "raw_train, raw_valid = split_vals(df, n_trn)\n",
    "X_train, X_valid = split_vals(df, n_trn)\n",
    "y_train, y_valid = split_vals(y, n_trn)\n",
    "\n",
    "X_train.shape, y_train.shape, X_valid.shape"
   ]
  },
  {
   "cell_type": "markdown",
   "metadata": {},
   "source": [
    "# MODELING"
   ]
  },
  {
   "cell_type": "code",
   "execution_count": 67,
   "metadata": {},
   "outputs": [],
   "source": [
    "# validation process\n",
    "skf = StratifiedKFold(n_splits=5, shuffle=True, random_state=101)"
   ]
  },
  {
   "cell_type": "markdown",
   "metadata": {},
   "source": [
    "### Vanilla Extremely Randomized Trees Forest\n",
    "\n",
    "Let us try now the `ExtraTreesClassifier` from sklearn. We first search for the best hiperparameters via random search:"
   ]
  },
  {
   "cell_type": "code",
   "execution_count": null,
   "metadata": {},
   "outputs": [
    {
     "name": "stdout",
     "output_type": "stream",
     "text": [
      "{'n_estimators': 100, 'class_weight': 'balanced', 'min_samples_leaf': 41, 'max_features': 0.9067408319024074, 'bootstrap': True, 'n_jobs': -1}\n",
      "0.6283007134525966\n",
      "\n",
      "{'n_estimators': 100, 'class_weight': 'balanced_subsample', 'min_samples_leaf': 23, 'max_features': 0.8673335726889143, 'bootstrap': False, 'n_jobs': -1}\n"
     ]
    }
   ],
   "source": [
    "# dataframe with experiment results\n",
    "results_df = pd.DataFrame()\n",
    "\n",
    "# random search of parameters\n",
    "N_TRIALS = 20\n",
    "for trial_id in range(N_TRIALS):\n",
    "    \n",
    "    # choosing parameters\n",
    "    params = {'n_estimators': 100,\n",
    "              'class_weight': np.random.choice([None,'balanced','balanced_subsample'], 1)[0],\n",
    "              'min_samples_leaf': np.random.randint(10, 100),\n",
    "              'max_features': np.random.uniform(0.1, 1.00),\n",
    "              'bootstrap': np.random.choice([True,False], 1)[0],\n",
    "              'n_jobs':-1}\n",
    "    \n",
    "    # printing the parameters\n",
    "    print(params)\n",
    "    \n",
    "    # configuring the model\n",
    "    et = ExtraTreesClassifier(**params)\n",
    "    \n",
    "    # running CV\n",
    "    preds = cross_val_predict(et, X_train, y_train, cv=skf, method='predict_proba')\n",
    "    \n",
    "    # evaluating\n",
    "    result = roc_auc_score(y_train, preds[:,1])\n",
    "    print(result)\n",
    "    print('')\n",
    "    \n",
    "    # saving to dict\n",
    "    temp_results = pd.concat([pd.DataFrame(params, index=[trial_id]), pd.DataFrame({'result':result}, index=[trial_id])], axis=1)\n",
    "    results_df = pd.concat([results_df, temp_results])"
   ]
  },
  {
   "cell_type": "code",
   "execution_count": null,
   "metadata": {},
   "outputs": [],
   "source": [
    "# let us check the results and sort them by auc\n",
    "results_df.sort_values('result', ascending=False)"
   ]
  },
  {
   "cell_type": "code",
   "execution_count": null,
   "metadata": {},
   "outputs": [],
   "source": [
    "preds[:,1][2000:2005]"
   ]
  },
  {
   "cell_type": "code",
   "execution_count": null,
   "metadata": {},
   "outputs": [],
   "source": [
    "preds"
   ]
  },
  {
   "cell_type": "code",
   "execution_count": null,
   "metadata": {},
   "outputs": [],
   "source": [
    "y_train[2000:2005]"
   ]
  },
  {
   "cell_type": "code",
   "execution_count": null,
   "metadata": {},
   "outputs": [],
   "source": []
  },
  {
   "cell_type": "code",
   "execution_count": null,
   "metadata": {},
   "outputs": [],
   "source": []
  },
  {
   "cell_type": "code",
   "execution_count": null,
   "metadata": {},
   "outputs": [],
   "source": []
  },
  {
   "cell_type": "code",
   "execution_count": null,
   "metadata": {},
   "outputs": [],
   "source": []
  },
  {
   "cell_type": "code",
   "execution_count": null,
   "metadata": {},
   "outputs": [],
   "source": []
  },
  {
   "cell_type": "code",
   "execution_count": null,
   "metadata": {},
   "outputs": [],
   "source": []
  },
  {
   "cell_type": "code",
   "execution_count": null,
   "metadata": {},
   "outputs": [],
   "source": []
  },
  {
   "cell_type": "code",
   "execution_count": null,
   "metadata": {},
   "outputs": [],
   "source": []
  },
  {
   "cell_type": "code",
   "execution_count": null,
   "metadata": {},
   "outputs": [],
   "source": []
  },
  {
   "cell_type": "code",
   "execution_count": null,
   "metadata": {},
   "outputs": [],
   "source": []
  },
  {
   "cell_type": "code",
   "execution_count": null,
   "metadata": {},
   "outputs": [],
   "source": []
  },
  {
   "cell_type": "code",
   "execution_count": null,
   "metadata": {},
   "outputs": [],
   "source": []
  },
  {
   "cell_type": "code",
   "execution_count": null,
   "metadata": {},
   "outputs": [],
   "source": []
  }
 ],
 "metadata": {
  "kernelspec": {
   "display_name": "Python 3",
   "language": "python",
   "name": "python3"
  },
  "language_info": {
   "codemirror_mode": {
    "name": "ipython",
    "version": 3
   },
   "file_extension": ".py",
   "mimetype": "text/x-python",
   "name": "python",
   "nbconvert_exporter": "python",
   "pygments_lexer": "ipython3",
   "version": "3.6.5"
  }
 },
 "nbformat": 4,
 "nbformat_minor": 2
}
